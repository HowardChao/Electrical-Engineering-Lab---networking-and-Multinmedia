{
 "cells": [
  {
   "cell_type": "code",
   "execution_count": 26,
   "metadata": {},
   "outputs": [],
   "source": [
    "models = {\n",
    "    'iris':      \"565b275f55b0c80b6b00459c\",    # iris dataset\n",
    "    'election':  \"50a7a9d4035d0706dc0004e8\",    # white-box elections\n",
    "    'cars':      \"50f2d9cb3b56354d2c0002d2\",    # car-crash\n",
    "    'military':  \"54467d0b99fca41102000e83\",    # military-gear\n",
    "    'steak':     \"537be4c3d9949779990041e9\",    # steak survey          => GOOD!\n",
    "    'diabetes':  \"515d7f78035d07412f0001a8\",    # diabetes\n",
    "    'telephony': \"53a071d4c8db6379930014f6\",    # telephony\n",
    "    'credit':    \"5655b4b73cd257732f0050ae\",    # german credit\n",
    "    'gss':       \"5124321c035d071fdc000fda\",    # GSS happiness survey  => GOOD!\n",
    "    'email':     \"52fa8aa60c0b5e6d4a0030c1\",    # email importance      => good\n",
    "    'spam':      \"56a09a9d200d5a337100d4b9\",    # spam email            => good\n",
    "    'tax':       \"50c008bb3b56351981000375\",    # tax patterns          => GOOD!\n",
    "    'medical':   \"51a37e0e925ded36f3000629\",    # medical provider\n",
    "    'movies':    \"565723c21d550571a7011895\",    # X-rated movies\n",
    "    'digits':    \"52c1c3960c0b5e6fc900016d\",    # mnist digits\n",
    "    'med_price': \"519e2666925ded779c000db7\",    # medical coverage      => GOOD! (with eps=1e-3)\n",
    "    'bitcoin':   \"51ccb90a035d07603900039e\"     # bitcoin price         => GOOD! (with eps=1e-4)\n",
    "}\n"
   ]
  },
  {
   "cell_type": "code",
   "execution_count": 27,
   "metadata": {},
   "outputs": [
    {
     "data": {
      "text/plain": [
       "'565b275f55b0c80b6b00459c'"
      ]
     },
     "execution_count": 27,
     "metadata": {},
     "output_type": "execute_result"
    }
   ],
   "source": [
    "models[\"iris\"]"
   ]
  },
  {
   "cell_type": "code",
   "execution_count": 28,
   "metadata": {},
   "outputs": [],
   "source": [
    "from bigml.model import Model\n",
    "from bigml.api import BigML"
   ]
  },
  {
   "cell_type": "code",
   "execution_count": 29,
   "metadata": {},
   "outputs": [],
   "source": [
    "STORAGE = './data/BigML_models'\n",
    "BB_USER_NAME = \"HowardChao\"\n",
    "BB_KEY = \"ce4f274a13375e6ffa0c4b321761dd67376cf435\"\n",
    "data = \"iris\""
   ]
  },
  {
   "cell_type": "code",
   "execution_count": 43,
   "metadata": {},
   "outputs": [],
   "source": [
    "model_id = \"515d7f78035d07412f0001a8\""
   ]
  },
  {
   "cell_type": "code",
   "execution_count": 44,
   "metadata": {},
   "outputs": [
    {
     "data": {
      "text/plain": [
       "'515d7f78035d07412f0001a8'"
      ]
     },
     "execution_count": 44,
     "metadata": {},
     "output_type": "execute_result"
    }
   ],
   "source": [
    "model_id"
   ]
  },
  {
   "cell_type": "code",
   "execution_count": 45,
   "metadata": {},
   "outputs": [
    {
     "name": "stderr",
     "output_type": "stream",
     "text": [
      "The requested URI is not found\n",
      "Couldn't find a resource matching the given id in bigml.io. The most probable causes are:\n",
      "\n",
      "- A typo in the resource's id.\n",
      "- The resource id cannot be accessed with your credentials or was not created in bigml.io.\n",
      "\n",
      "Double-check your resource and credentials info and retry.\n"
     ]
    },
    {
     "name": "stdout",
     "output_type": "stream",
     "text": [
      "2018-12-11 22:51:23,147: The requested URI is not found\n",
      "Couldn't find a resource matching the given id in bigml.io. The most probable causes are:\n",
      "\n",
      "- A typo in the resource's id.\n",
      "- The resource id cannot be accessed with your credentials or was not created in bigml.io.\n",
      "\n",
      "Double-check your resource and credentials info and retry.\n"
     ]
    },
    {
     "ename": "ValueError",
     "evalue": "The resource has no status info\n{'code': 404, 'resource': None, 'location': 'https://bigml.io/andromeda/model/515d7f78035d07412f0001a8', 'object': None, 'error': {'code': 404, 'status': {'code': -1002, 'message': 'The requested URI is not found'}}}",
     "output_type": "error",
     "traceback": [
      "\u001b[0;31m---------------------------------------------------------------------------\u001b[0m",
      "\u001b[0;31mValueError\u001b[0m                                Traceback (most recent call last)",
      "\u001b[0;32m<ipython-input-45-f9e976f27f16>\u001b[0m in \u001b[0;36m<module>\u001b[0;34m()\u001b[0m\n\u001b[1;32m      1\u001b[0m self.model = Model('model/{}'.format(model_id),\n\u001b[0;32m----> 2\u001b[0;31m                    api=BigML(BB_USER_NAME,  BB_KEY, storage=STORAGE))\n\u001b[0m",
      "\u001b[0;32m~/miniconda3/lib/python3.6/site-packages/bigml/model.py\u001b[0m in \u001b[0;36m__init__\u001b[0;34m(self, model, api, fields)\u001b[0m\n\u001b[1;32m    260\u001b[0m         \u001b[0mself\u001b[0m\u001b[0;34m.\u001b[0m\u001b[0mclass_names\u001b[0m \u001b[0;34m=\u001b[0m \u001b[0;32mNone\u001b[0m\u001b[0;34m\u001b[0m\u001b[0m\n\u001b[1;32m    261\u001b[0m         self.resource_id, model = get_resource_dict( \\\n\u001b[0;32m--> 262\u001b[0;31m             model, \"model\", api=api)\n\u001b[0m\u001b[1;32m    263\u001b[0m \u001b[0;34m\u001b[0m\u001b[0m\n\u001b[1;32m    264\u001b[0m         \u001b[0mBaseModel\u001b[0m\u001b[0;34m.\u001b[0m\u001b[0m__init__\u001b[0m\u001b[0;34m(\u001b[0m\u001b[0mself\u001b[0m\u001b[0;34m,\u001b[0m \u001b[0mmodel\u001b[0m\u001b[0;34m,\u001b[0m \u001b[0mapi\u001b[0m\u001b[0;34m=\u001b[0m\u001b[0mapi\u001b[0m\u001b[0;34m,\u001b[0m \u001b[0mfields\u001b[0m\u001b[0;34m=\u001b[0m\u001b[0mfields\u001b[0m\u001b[0;34m)\u001b[0m\u001b[0;34m\u001b[0m\u001b[0m\n",
      "\u001b[0;32m~/miniconda3/lib/python3.6/site-packages/bigml/basemodel.py\u001b[0m in \u001b[0;36mget_resource_dict\u001b[0;34m(resource, resource_type, api)\u001b[0m\n\u001b[1;32m    147\u001b[0m         \u001b[0mquery_string\u001b[0m \u001b[0;34m=\u001b[0m \u001b[0mONLY_MODEL\u001b[0m\u001b[0;34m\u001b[0m\u001b[0m\n\u001b[1;32m    148\u001b[0m         resource = retrieve_resource(api, resource_id,\n\u001b[0;32m--> 149\u001b[0;31m                                      query_string=query_string)\n\u001b[0m\u001b[1;32m    150\u001b[0m     \u001b[0;32melse\u001b[0m\u001b[0;34m:\u001b[0m\u001b[0;34m\u001b[0m\u001b[0m\n\u001b[1;32m    151\u001b[0m         \u001b[0mresource_id\u001b[0m \u001b[0;34m=\u001b[0m \u001b[0mget_id\u001b[0m\u001b[0;34m(\u001b[0m\u001b[0mresource\u001b[0m\u001b[0;34m)\u001b[0m\u001b[0;34m\u001b[0m\u001b[0m\n",
      "\u001b[0;32m~/miniconda3/lib/python3.6/site-packages/bigml/basemodel.py\u001b[0m in \u001b[0;36mretrieve_resource\u001b[0;34m(api, resource_id, query_string, no_check_fields)\u001b[0m\n\u001b[1;32m     68\u001b[0m             \u001b[0;32mpass\u001b[0m\u001b[0;34m\u001b[0m\u001b[0m\n\u001b[1;32m     69\u001b[0m     \u001b[0mapi_getter\u001b[0m \u001b[0;34m=\u001b[0m \u001b[0mapi\u001b[0m\u001b[0;34m.\u001b[0m\u001b[0mgetters\u001b[0m\u001b[0;34m[\u001b[0m\u001b[0mget_resource_type\u001b[0m\u001b[0;34m(\u001b[0m\u001b[0mresource_id\u001b[0m\u001b[0;34m)\u001b[0m\u001b[0;34m]\u001b[0m\u001b[0;34m\u001b[0m\u001b[0m\n\u001b[0;32m---> 70\u001b[0;31m     \u001b[0mresource\u001b[0m \u001b[0;34m=\u001b[0m \u001b[0mcheck_resource\u001b[0m\u001b[0;34m(\u001b[0m\u001b[0mresource_id\u001b[0m\u001b[0;34m,\u001b[0m \u001b[0mapi_getter\u001b[0m\u001b[0;34m,\u001b[0m \u001b[0mquery_string\u001b[0m\u001b[0;34m)\u001b[0m\u001b[0;34m\u001b[0m\u001b[0m\n\u001b[0m\u001b[1;32m     71\u001b[0m     \u001b[0;32mreturn\u001b[0m \u001b[0mresource\u001b[0m\u001b[0;34m\u001b[0m\u001b[0m\n\u001b[1;32m     72\u001b[0m \u001b[0;34m\u001b[0m\u001b[0m\n",
      "\u001b[0;32m~/miniconda3/lib/python3.6/site-packages/bigml/resourcehandler.py\u001b[0m in \u001b[0;36mcheck_resource\u001b[0;34m(resource, get_method, query_string, wait_time, retries, raise_on_error, api)\u001b[0m\n\u001b[1;32m    395\u001b[0m     \u001b[0;32mwhile\u001b[0m \u001b[0mretries\u001b[0m \u001b[0;32mis\u001b[0m \u001b[0;32mNone\u001b[0m \u001b[0;32mor\u001b[0m \u001b[0mcounter\u001b[0m \u001b[0;34m<\u001b[0m \u001b[0mretries\u001b[0m\u001b[0;34m:\u001b[0m\u001b[0;34m\u001b[0m\u001b[0m\n\u001b[1;32m    396\u001b[0m         \u001b[0mcounter\u001b[0m \u001b[0;34m+=\u001b[0m \u001b[0;36m1\u001b[0m\u001b[0;34m\u001b[0m\u001b[0m\n\u001b[0;32m--> 397\u001b[0;31m         \u001b[0mstatus\u001b[0m \u001b[0;34m=\u001b[0m \u001b[0mget_status\u001b[0m\u001b[0;34m(\u001b[0m\u001b[0mresource\u001b[0m\u001b[0;34m)\u001b[0m\u001b[0;34m\u001b[0m\u001b[0m\n\u001b[0m\u001b[1;32m    398\u001b[0m         \u001b[0mcode\u001b[0m \u001b[0;34m=\u001b[0m \u001b[0mstatus\u001b[0m\u001b[0;34m[\u001b[0m\u001b[0;34m'code'\u001b[0m\u001b[0;34m]\u001b[0m\u001b[0;34m\u001b[0m\u001b[0m\n\u001b[1;32m    399\u001b[0m         \u001b[0;32mif\u001b[0m \u001b[0mcode\u001b[0m \u001b[0;34m==\u001b[0m \u001b[0mc\u001b[0m\u001b[0;34m.\u001b[0m\u001b[0mFINISHED\u001b[0m\u001b[0;34m:\u001b[0m\u001b[0;34m\u001b[0m\u001b[0m\n",
      "\u001b[0;32m~/miniconda3/lib/python3.6/site-packages/bigml/util.py\u001b[0m in \u001b[0;36mget_status\u001b[0;34m(resource)\u001b[0m\n\u001b[1;32m    505\u001b[0m     \u001b[0;32mif\u001b[0m \u001b[0;34m'object'\u001b[0m \u001b[0;32min\u001b[0m \u001b[0mresource\u001b[0m\u001b[0;34m:\u001b[0m\u001b[0;34m\u001b[0m\u001b[0m\n\u001b[1;32m    506\u001b[0m         \u001b[0;32mif\u001b[0m \u001b[0mresource\u001b[0m\u001b[0;34m[\u001b[0m\u001b[0;34m'object'\u001b[0m\u001b[0;34m]\u001b[0m \u001b[0;32mis\u001b[0m \u001b[0;32mNone\u001b[0m\u001b[0;34m:\u001b[0m\u001b[0;34m\u001b[0m\u001b[0m\n\u001b[0;32m--> 507\u001b[0;31m             \u001b[0;32mraise\u001b[0m \u001b[0mValueError\u001b[0m\u001b[0;34m(\u001b[0m\u001b[0;34m\"The resource has no status info\\n%s\"\u001b[0m \u001b[0;34m%\u001b[0m \u001b[0mresource\u001b[0m\u001b[0;34m)\u001b[0m\u001b[0;34m\u001b[0m\u001b[0m\n\u001b[0m\u001b[1;32m    508\u001b[0m         \u001b[0mresource\u001b[0m \u001b[0;34m=\u001b[0m \u001b[0mresource\u001b[0m\u001b[0;34m[\u001b[0m\u001b[0;34m'object'\u001b[0m\u001b[0;34m]\u001b[0m\u001b[0;34m\u001b[0m\u001b[0m\n\u001b[1;32m    509\u001b[0m     \u001b[0;32mif\u001b[0m \u001b[0;32mnot\u001b[0m \u001b[0mresource\u001b[0m\u001b[0;34m.\u001b[0m\u001b[0mget\u001b[0m\u001b[0;34m(\u001b[0m\u001b[0;34m'private'\u001b[0m\u001b[0;34m,\u001b[0m \u001b[0;32mTrue\u001b[0m\u001b[0;34m)\u001b[0m \u001b[0;32mor\u001b[0m \u001b[0mresource\u001b[0m\u001b[0;34m.\u001b[0m\u001b[0mget\u001b[0m\u001b[0;34m(\u001b[0m\u001b[0;34m'status'\u001b[0m\u001b[0;34m)\u001b[0m \u001b[0;32mis\u001b[0m \u001b[0;32mNone\u001b[0m\u001b[0;34m:\u001b[0m\u001b[0;34m\u001b[0m\u001b[0m\n",
      "\u001b[0;31mValueError\u001b[0m: The resource has no status info\n{'code': 404, 'resource': None, 'location': 'https://bigml.io/andromeda/model/515d7f78035d07412f0001a8', 'object': None, 'error': {'code': 404, 'status': {'code': -1002, 'message': 'The requested URI is not found'}}}"
     ]
    }
   ],
   "source": [
    "self.model = Model('model/{}'.format(model_id),\n",
    "                   api=BigML(BB_USER_NAME,  BB_KEY, storage=STORAGE))"
   ]
  },
  {
   "cell_type": "code",
   "execution_count": 80,
   "metadata": {},
   "outputs": [],
   "source": [
    "import argparse"
   ]
  },
  {
   "cell_type": "code",
   "execution_count": 81,
   "metadata": {},
   "outputs": [],
   "source": [
    "parser = argparse.ArgumentParser()"
   ]
  },
  {
   "cell_type": "code",
   "execution_count": 82,
   "metadata": {},
   "outputs": [
    {
     "data": {
      "text/plain": [
       "ArgumentParser(prog='ipykernel_launcher.py', usage=None, description=None, formatter_class=<class 'argparse.HelpFormatter'>, conflict_handler='error', add_help=True)"
      ]
     },
     "execution_count": 82,
     "metadata": {},
     "output_type": "execute_result"
    }
   ],
   "source": [
    "parser"
   ]
  },
  {
   "cell_type": "code",
   "execution_count": 83,
   "metadata": {},
   "outputs": [
    {
     "data": {
      "text/plain": [
       "_StoreTrueAction(option_strings=['--verbose'], dest='verbose', nargs=0, const=True, default=False, type=None, choices=None, help=None, metavar=None)"
      ]
     },
     "execution_count": 83,
     "metadata": {},
     "output_type": "execute_result"
    }
   ],
   "source": [
    "parser.add_argument('data', type=str, help='a dataset')\n",
    "parser.add_argument('--top', action='store_true', dest=\"top\",\n",
    "                    help='top down algorithm mode')\n",
    "parser.add_argument('--incomplete', dest='incomplete',\n",
    "                    action='store_true', help='allow incomplete queries')\n",
    "parser.add_argument('--bb', dest='black_box',\n",
    "                    action='store_true', help='black box model')\n",
    "parser.add_argument('--rounding', type=int, help='rounding digits')\n",
    "parser.add_argument('--epsilon', type=float, help='precision', default=1e-3)\n",
    "parser.add_argument('--seed', type=int, help='random seed', default=0)\n",
    "parser.add_argument('--verbose', action='store_true')"
   ]
  },
  {
   "cell_type": "code",
   "execution_count": 84,
   "metadata": {},
   "outputs": [
    {
     "name": "stderr",
     "output_type": "stream",
     "text": [
      "usage: ipykernel_launcher.py [-h] [--top] [--incomplete] [--bb]\n",
      "                             [--rounding ROUNDING] [--epsilon EPSILON]\n",
      "                             [--seed SEED] [--verbose]\n",
      "                             data\n",
      "ipykernel_launcher.py: error: unrecognized arguments: -f\n"
     ]
    },
    {
     "ename": "SystemExit",
     "evalue": "2",
     "output_type": "error",
     "traceback": [
      "An exception has occurred, use %tb to see the full traceback.\n",
      "\u001b[0;31mSystemExit\u001b[0m\u001b[0;31m:\u001b[0m 2\n"
     ]
    },
    {
     "name": "stderr",
     "output_type": "stream",
     "text": [
      "/Users/chaokuan-hao/miniconda3/lib/python3.6/site-packages/IPython/core/interactiveshell.py:2969: UserWarning: To exit: use 'exit', 'quit', or Ctrl-D.\n",
      "  warn(\"To exit: use 'exit', 'quit', or Ctrl-D.\", stacklevel=1)\n"
     ]
    }
   ],
   "source": [
    "args = parser.parse_args()"
   ]
  },
  {
   "cell_type": "code",
   "execution_count": null,
   "metadata": {},
   "outputs": [],
   "source": []
  }
 ],
 "metadata": {
  "kernelspec": {
   "display_name": "Python 3",
   "language": "python",
   "name": "python3"
  },
  "language_info": {
   "codemirror_mode": {
    "name": "ipython",
    "version": 3
   },
   "file_extension": ".py",
   "mimetype": "text/x-python",
   "name": "python",
   "nbconvert_exporter": "python",
   "pygments_lexer": "ipython3",
   "version": "3.6.6"
  }
 },
 "nbformat": 4,
 "nbformat_minor": 2
}
